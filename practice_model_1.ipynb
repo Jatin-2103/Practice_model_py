{
  "nbformat": 4,
  "nbformat_minor": 0,
  "metadata": {
    "colab": {
      "provenance": [],
      "authorship_tag": "ABX9TyPJBwwq/5JT9Ud1un4b+6Jr",
      "include_colab_link": true
    },
    "kernelspec": {
      "name": "python3",
      "display_name": "Python 3"
    },
    "language_info": {
      "name": "python"
    }
  },
  "cells": [
    {
      "cell_type": "markdown",
      "metadata": {
        "id": "view-in-github",
        "colab_type": "text"
      },
      "source": [
        "<a href=\"https://colab.research.google.com/github/Jatin-2103/Practice_model_py/blob/main/practice_model_1.ipynb\" target=\"_parent\"><img src=\"https://colab.research.google.com/assets/colab-badge.svg\" alt=\"Open In Colab\"/></a>"
      ]
    },
    {
      "cell_type": "code",
      "execution_count": 2,
      "metadata": {
        "colab": {
          "base_uri": "https://localhost:8080/"
        },
        "id": "V98AcR6HFZ2N",
        "outputId": "f4663914-f4fb-4518-9c7d-829e755800e8"
      },
      "outputs": [
        {
          "output_type": "stream",
          "name": "stdout",
          "text": [
            "50\n",
            "Not Weird\n"
          ]
        }
      ],
      "source": [
        "#!/bin/python3\n",
        "#Q1\n",
        "import math\n",
        "import os\n",
        "import random\n",
        "import re\n",
        "import sys\n",
        "\n",
        "\n",
        "\n",
        "if __name__ == '__main__':\n",
        "    n = int(input().strip())\n",
        "    if(n%2==0):\n",
        "        if((n>=2 and n<=5) or n>20):\n",
        "            print(\"Not Weird\")\n",
        "        else:\n",
        "            print(\"Weird\")\n",
        "\n",
        "    else:\n",
        "        print(\"Weird\")\n"
      ]
    },
    {
      "cell_type": "code",
      "source": [
        "#Q2\n",
        "if __name__ == '__main__':\n",
        "    a = int(input())\n",
        "    b = int(input())\n",
        "    add=a+b\n",
        "    sub=a-b\n",
        "    mul=a*b\n",
        "    print(add)\n",
        "    print(sub)\n",
        "    print(mul)"
      ],
      "metadata": {
        "colab": {
          "base_uri": "https://localhost:8080/"
        },
        "id": "FYXZk7Y9GDy5",
        "outputId": "ba74fd86-8cd2-46ce-ffd6-bc71f0c73bd0"
      },
      "execution_count": 3,
      "outputs": [
        {
          "output_type": "stream",
          "name": "stdout",
          "text": [
            "10\n",
            "20\n",
            "30\n",
            "-10\n",
            "200\n"
          ]
        }
      ]
    },
    {
      "cell_type": "code",
      "source": [
        "#Q3\n",
        "if __name__ == '__main__':\n",
        "    a = int(input())\n",
        "    b = int(input())\n",
        "    fdiv=a//b\n",
        "    div=a/b\n",
        "    print(fdiv)\n",
        "    print(div)"
      ],
      "metadata": {
        "colab": {
          "base_uri": "https://localhost:8080/"
        },
        "id": "6yC0f4wrHO4j",
        "outputId": "9825cf96-6c15-46a4-dd95-a2ea02e83824"
      },
      "execution_count": 4,
      "outputs": [
        {
          "output_type": "stream",
          "name": "stdout",
          "text": [
            "10\n",
            "5\n",
            "2\n",
            "2.0\n"
          ]
        }
      ]
    },
    {
      "cell_type": "code",
      "source": [
        "#Q4\n",
        "if __name__ == '__main__':\n",
        "    n = int(input())\n",
        "    if(n>=0):\n",
        "        for i in range(0,n):\n",
        "            print(i*i)"
      ],
      "metadata": {
        "colab": {
          "base_uri": "https://localhost:8080/"
        },
        "id": "c6q5hW5eJS0z",
        "outputId": "76c17dfc-bfa0-4ed7-eb6f-b80959156d45"
      },
      "execution_count": 5,
      "outputs": [
        {
          "output_type": "stream",
          "name": "stdout",
          "text": [
            "5\n",
            "0\n",
            "1\n",
            "4\n",
            "9\n",
            "16\n"
          ]
        }
      ]
    },
    {
      "cell_type": "code",
      "source": [
        "#Q5\n",
        "if __name__ == '__main__':\n",
        "    n = int(input())\n",
        "    for i in range(1,n+1):\n",
        "        print(i, end=\"\")"
      ],
      "metadata": {
        "colab": {
          "base_uri": "https://localhost:8080/"
        },
        "id": "LRH4NSpBJXFw",
        "outputId": "a59e2881-34b0-41ec-8953-75988899446d"
      },
      "execution_count": 6,
      "outputs": [
        {
          "output_type": "stream",
          "name": "stdout",
          "text": [
            "5\n",
            "12345"
          ]
        }
      ]
    },
    {
      "cell_type": "code",
      "source": [
        "#Q6\n",
        "def is_leap(year):\n",
        "    leap = False\n",
        "\n",
        "    if(year % 4==0 ):\n",
        "        if(year%100==0):\n",
        "            if(year%400==0):\n",
        "                leap= True\n",
        "            else:\n",
        "                leap = False\n",
        "        else:\n",
        "            leap=True\n",
        "\n",
        "    return leap\n",
        "\n",
        "year = int(input())\n",
        "print(is_leap(year))"
      ],
      "metadata": {
        "colab": {
          "base_uri": "https://localhost:8080/"
        },
        "id": "7WNxuWcfJ2Fs",
        "outputId": "ba38b23b-88b4-4e44-e9b2-1820c617d709"
      },
      "execution_count": 7,
      "outputs": [
        {
          "output_type": "stream",
          "name": "stdout",
          "text": [
            "2000\n",
            "True\n"
          ]
        }
      ]
    }
  ]
}